{
 "cells": [
  {
   "cell_type": "code",
   "execution_count": 1,
   "metadata": {},
   "outputs": [],
   "source": [
    "import pandas as pd\n",
    "import numpy as np\n",
    "import matplotlib.pyplot as plt\n",
    "import warnings\n",
    "warnings.filterwarnings('ignore')\n",
    "from sklearn.datasets import load_iris"
   ]
  },
  {
   "cell_type": "code",
   "execution_count": 2,
   "metadata": {},
   "outputs": [],
   "source": [
    "def sigmoid(X):\n",
    "    y = 1 / (1+np.exp(-X))\n",
    "    return y\n",
    "\n",
    "class LogisticRegression:\n",
    "\n",
    "    def __init__(self, alpha=0.01, iteration=1000):\n",
    "        \"\"\"\n",
    "        alpha     学习步长\n",
    "        w         权重向量\n",
    "        iteration 最大迭代次数\n",
    "        error     记录损失函数值\n",
    "        \"\"\"\n",
    "        self.alpha = alpha\n",
    "        self.iteration = iteration\n",
    "    \n",
    "    def fit(self, X, y):\n",
    "        [data_num, fea_num] = X.shape\n",
    "        X_ = np.vstack((np.ones(data_num).reshape(1,-1), X.T))\n",
    "        y_ = y.reshape(-1,1)\n",
    "        self.w = np.zeros(fea_num+1).reshape(-1,1)\n",
    "        self.error = []\n",
    "        i = 1\n",
    "        \n",
    "        while i<self.iteration:\n",
    "            # 迭代w值\n",
    "            dif_y = y_ - sigmoid(np.dot(self.w.T,X_)).reshape(-1,1)\n",
    "            self.w = self.w + self.alpha * 1/data_num * np.dot(X_, dif_y)\n",
    "                \n",
    "            # 记录损失\n",
    "            p1 = sigmoid(np.dot(self.w.T,X_).T)\n",
    "            temp = y_*np.log(p1) + (1-y_)*np.log(1-p1)\n",
    "            self.error.append(-temp.mean())\n",
    "            \n",
    "            # 迭代次数\n",
    "            if (i+1)%100==0:\n",
    "                print('epoch--', i+1)\n",
    "            i += 1\n",
    "    \n",
    "    def predict(self, X):\n",
    "        X_ = np.vstack((np.ones(X.shape[0]).reshape(1,-1), X.T))\n",
    "        sig = sigmoid(np.dot(self.w.T, X_))[0]\n",
    "        return (sig>=0.5)*1"
   ]
  },
  {
   "cell_type": "markdown",
   "metadata": {},
   "source": [
    "导入数据"
   ]
  },
  {
   "cell_type": "code",
   "execution_count": 3,
   "metadata": {},
   "outputs": [
    {
     "data": {
      "text/plain": [
       "<matplotlib.collections.PathCollection at 0x1d70f3b60b8>"
      ]
     },
     "execution_count": 3,
     "metadata": {},
     "output_type": "execute_result"
    },
    {
     "data": {
      "image/png": "[encoded data removed]",
      "text/plain": [
       "<Figure size 432x288 with 1 Axes>"
      ]
     },
     "metadata": {},
     "output_type": "display_data"
    }
   ],
   "source": [
    "iris = load_iris()\n",
    "X = iris.data[:100,:2]\n",
    "y = (iris.target[:100]==1)*1\n",
    "\n",
    "plt.scatter(X[y==0,0], X[y==0,1], color='red')\n",
    "plt.scatter(X[y==1,0], X[y==1,1], color='green')"
   ]
  },
  {
   "cell_type": "code",
   "execution_count": 4,
   "metadata": {},
   "outputs": [
    {
     "name": "stdout",
     "output_type": "stream",
     "text": [
      "epoch-- 100\n",
      "epoch-- 200\n",
      "epoch-- 300\n",
      "epoch-- 400\n",
      "epoch-- 500\n",
      "epoch-- 600\n",
      "epoch-- 700\n",
      "epoch-- 800\n",
      "epoch-- 900\n",
      "epoch-- 1000\n"
     ]
    },
    {
     "data": {
      "text/plain": [
       "[<matplotlib.lines.Line2D at 0x1d70f449630>]"
      ]
     },
     "execution_count": 4,
     "metadata": {},
     "output_type": "execute_result"
    },
    {
     "data": {
      "image/png": "[encoded data removed]",
      "text/plain": [
       "<Figure size 432x288 with 1 Axes>"
      ]
     },
     "metadata": {},
     "output_type": "display_data"
    }
   ],
   "source": [
    "# 训练\n",
    "clf=LogisticRegression()\n",
    "clf.fit(X,y)\n",
    "line1 = X[:,0]\n",
    "line2 = -(clf.w[0]+clf.w[1]*line1)/clf.w[2]\n",
    "\n",
    "# 画图\n",
    "plt.scatter(X[y==0,0],X[y==0,1],color='red')\n",
    "plt.scatter(X[y==1,0],X[y==1,1],color='green')\n",
    "plt.plot(line1,line2)"
   ]
  }
 ],
 "metadata": {
  "kernelspec": {
   "display_name": "Python 3",
   "language": "python",
   "name": "python3"
  },
  "language_info": {
   "codemirror_mode": {
    "name": "ipython",
    "version": 3
   },
   "file_extension": ".py",
   "mimetype": "text/x-python",
   "name": "python",
   "nbconvert_exporter": "python",
   "pygments_lexer": "ipython3",
   "version": "3.6.5"
  }
 },
 "nbformat": 4,
 "nbformat_minor": 2
}
